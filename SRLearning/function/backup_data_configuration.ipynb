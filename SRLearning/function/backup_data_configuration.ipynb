{
 "cells": [
  {
   "cell_type": "markdown",
   "metadata": {},
   "source": [
    "两段代码插入Train文件第二块后"
   ]
  },
  {
   "cell_type": "code",
   "execution_count": null,
   "metadata": {},
   "outputs": [],
   "source": [
    "img_LR_0, img_HR_0 = dataset[0] # 第一张\n",
    "print(\"检查dataset参数：\")\n",
    "print(f\"图像数量: {len(dataset)}\")\n",
    "print(f\"图像规格: [{img_LR_0.shape[0]}, {img_LR_0.shape[1]}, {img_LR_0.shape[2]}, {img_LR_0.shape[3]}] [批次图像数，通道数，高度，宽度]\")\n",
    "\n",
    "for i in range(3):\n",
    "    img_LR_i, img_HR_i = dataset[i]\n",
    "    img_LR_i, img_HR_i = img_LR_i.squeeze(), img_HR_i.squeeze()\n",
    "    fig, ax = plt.subplots(1,2)\n",
    "    ax[0].imshow(img_LR_i,cmap='hot')\n",
    "    ax[0].set_title('Low_Resolution[%s]'%(i+1))\n",
    "    ax[0].axis('off')\n",
    "    ax[1].imshow(img_HR_i,cmap='hot')\n",
    "    ax[1].set_title('High_Resolution[%s]'%(i+1))\n",
    "    ax[1].axis('off')\n",
    "plt.show()"
   ]
  },
  {
   "cell_type": "code",
   "execution_count": null,
   "metadata": {},
   "outputs": [],
   "source": [
    "first_batch = next(iter(dataloader))\n",
    "\n",
    "print(\"检查dataloader参数：\")\n",
    "print(\"批次数量:\", len(dataloader))\n",
    "print(\"批次大小:\", dataloader.batch_size)\n",
    "print(\"第一个批次的图像数量:\", len(first_batch[0]))\n",
    "\n",
    "img_LR_batch = first_batch[0]\n",
    "img_HR_batch = first_batch[1]\n",
    "for i in range(dataloader.batch_size):\n",
    "    img_LR_i, img_HR_i = img_LR_batch[i], img_HR_batch[i]\n",
    "    img_LR_i, img_HR_i = img_LR_i.squeeze(), img_HR_i.squeeze()\n",
    "    fig,ax = plt.subplots(1,2)\n",
    "    ax[0].imshow(img_LR_i,cmap='hot')\n",
    "    ax[0].set_title(i+1)\n",
    "    ax[0].axis('off')\n",
    "    ax[1].imshow(img_HR_i,cmap='hot')\n",
    "    ax[1].set_title(i+1)\n",
    "    ax[1].axis('off')\n",
    "plt.show()"
   ]
  }
 ],
 "metadata": {
  "language_info": {
   "name": "python"
  }
 },
 "nbformat": 4,
 "nbformat_minor": 2
}
