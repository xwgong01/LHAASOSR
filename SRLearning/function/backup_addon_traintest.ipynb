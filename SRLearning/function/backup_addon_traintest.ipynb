{
 "cells": [
  {
   "cell_type": "markdown",
   "metadata": {},
   "source": [
    "代码插入Train文件最后"
   ]
  },
  {
   "cell_type": "code",
   "execution_count": 1,
   "metadata": {},
   "outputs": [
    {
     "ename": "NameError",
     "evalue": "name 'dataloader' is not defined",
     "output_type": "error",
     "traceback": [
      "\u001b[0;31m---------------------------------------------------------------------------\u001b[0m",
      "\u001b[0;31mNameError\u001b[0m                                 Traceback (most recent call last)",
      "\u001b[0;32m/tmp/ipykernel_106853/1067975564.py\u001b[0m in \u001b[0;36m<cell line: 1>\u001b[0;34m()\u001b[0m\n\u001b[0;32m----> 1\u001b[0;31m \u001b[0;32mfor\u001b[0m \u001b[0mi\u001b[0m\u001b[0;34m,\u001b[0m \u001b[0;34m(\u001b[0m\u001b[0mx\u001b[0m\u001b[0;34m,\u001b[0m \u001b[0my\u001b[0m\u001b[0;34m)\u001b[0m \u001b[0;32min\u001b[0m \u001b[0menumerate\u001b[0m\u001b[0;34m(\u001b[0m\u001b[0mdataloader\u001b[0m\u001b[0;34m)\u001b[0m\u001b[0;34m:\u001b[0m\u001b[0;34m\u001b[0m\u001b[0;34m\u001b[0m\u001b[0m\n\u001b[0m\u001b[1;32m      2\u001b[0m     \u001b[0mx\u001b[0m \u001b[0;34m=\u001b[0m \u001b[0mx\u001b[0m\u001b[0;34m.\u001b[0m\u001b[0msqueeze\u001b[0m\u001b[0;34m(\u001b[0m\u001b[0;36m1\u001b[0m\u001b[0;34m)\u001b[0m \u001b[0;31m# 这里x和y都是五维的，去掉第二维才能重建\u001b[0m\u001b[0;34m\u001b[0m\u001b[0;34m\u001b[0m\u001b[0m\n\u001b[1;32m      3\u001b[0m     \u001b[0my\u001b[0m \u001b[0;34m=\u001b[0m \u001b[0my\u001b[0m\u001b[0;34m.\u001b[0m\u001b[0msqueeze\u001b[0m\u001b[0;34m(\u001b[0m\u001b[0;36m1\u001b[0m\u001b[0;34m)\u001b[0m \u001b[0;31m# 从[batch_size, channels, 组数（奇怪不管他），height, width]变为 [batch_size, 组数（奇怪不管他）, height, width]\u001b[0m\u001b[0;34m\u001b[0m\u001b[0;34m\u001b[0m\u001b[0m\n\u001b[1;32m      4\u001b[0m     \u001b[0mx_rec\u001b[0m \u001b[0;34m=\u001b[0m \u001b[0mvae\u001b[0m\u001b[0;34m(\u001b[0m\u001b[0mx\u001b[0m\u001b[0;34m)\u001b[0m\u001b[0;34m\u001b[0m\u001b[0;34m\u001b[0m\u001b[0m\n\u001b[1;32m      5\u001b[0m \u001b[0;34m\u001b[0m\u001b[0m\n",
      "\u001b[0;31mNameError\u001b[0m: name 'dataloader' is not defined"
     ]
    }
   ],
   "source": [
    "for i, (x, y) in enumerate(dataloader):\n",
    "    x = x.squeeze(1) # 这里x和y都是五维的，去掉第二维才能重建\n",
    "    y = y.squeeze(1) # 从[batch_size, channels, 组数（奇怪不管他），height, width]变为 [batch_size, 组数（奇怪不管他）, height, width]\n",
    "    x_rec = vae(x)\n",
    "\n",
    "print(\"一个批次包含\",x.shape[0],\"张图片，每个图片的尺寸为\",x.shape[1:])\n",
    "print(\"要imshow除去x需要再除去一个维度化为\",x.shape[2:])\n",
    "\n",
    "print(x.shape)\n",
    "print(x_rec[0].shape) #x_rec是3元元组，(img, mu, logvar)\n",
    "print(y.shape)\n",
    "\n",
    "img_LR_test = x.cpu().detach().numpy()\n",
    "img_SR_test = x_rec[0].cpu().detach().numpy()\n",
    "img_HR_test = y.cpu().detach().numpy()\n",
    "\n",
    "fig,ax = plt.subplots(1,3)\n",
    "img_number = 2\n",
    "\n",
    "ax[0].imshow(img_LR_test[img_number,0,:,:],cmap='hot')\n",
    "ax[0].set_xlabel(\"Low_Resolution\")\n",
    "ax[1].imshow(img_SR_test[img_number,0,:,:],cmap='hot')\n",
    "ax[1].set_xlabel(\"Super-Resolution\")\n",
    "ax[2].imshow(img_HR_test[img_number,0,:,:],cmap='hot')\n",
    "ax[2].set_xlabel(\"High_Resolution\")\n",
    "plt.show()"
   ]
  }
 ],
 "metadata": {
  "kernelspec": {
   "display_name": "Python 3 (ipykernel)",
   "language": "python",
   "name": "python3"
  },
  "language_info": {
   "codemirror_mode": {
    "name": "ipython",
    "version": 3
   },
   "file_extension": ".py",
   "mimetype": "text/x-python",
   "name": "python",
   "nbconvert_exporter": "python",
   "pygments_lexer": "ipython3",
   "version": "3.10.12"
  }
 },
 "nbformat": 4,
 "nbformat_minor": 4
}
